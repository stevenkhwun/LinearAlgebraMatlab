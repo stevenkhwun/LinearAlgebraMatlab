{
 "cells": [
  {
   "cell_type": "markdown",
   "id": "99d843bb-1cc1-414c-b8f7-c0e4865d5db8",
   "metadata": {},
   "source": [
    "<font size=\"6\">Chapter 1: Vector Spaces</font>"
   ]
  },
  {
   "cell_type": "markdown",
   "id": "162c387a-475e-4f24-aad2-1a1589ad6fca",
   "metadata": {},
   "source": [
    "<div class=\"alert alert-block alert-info\">\n",
    "A vector space is a set with operations of addition and scalar multiplication that satisfy natural algebraic properties.</div>"
   ]
  },
  {
   "cell_type": "markdown",
   "id": "4c04fd3c-2a05-48bb-97db-e874d07af60e",
   "metadata": {},
   "source": [
    "# Definition\n",
    "* Complex number\n",
    "* Set of all complex numbers: $\\mathbf{C}$\n",
    "* Addition and multipliction on $\\mathbf{C}$"
   ]
  },
  {
   "cell_type": "markdown",
   "id": "88d5b51c-60cb-4790-9000-ddc3be016512",
   "metadata": {},
   "source": [
    "# Theorem\n",
    "**Properties of complex arithmetic**\n",
    "* commutativity\n",
    "* associativity\n",
    "* identities\n",
    "* additive inverse\n",
    "* multiplicative inverse\n",
    "* distributive property"
   ]
  },
  {
   "cell_type": "markdown",
   "id": "b44e02e7-8248-4e93-b3d0-e1808e31b49f",
   "metadata": {},
   "source": [
    "Proof:"
   ]
  },
  {
   "cell_type": "markdown",
   "id": "68fe0872-5288-49bc-9689-eaff2dcf6b30",
   "metadata": {},
   "source": [
    "# Definition\n",
    "Suppose $\\alpha \\in \\mathbf{C}$\n",
    "* Additive inverse, $-\\alpha$\n",
    "* Subtraction on $\\mathbf{C}$\n",
    "* Multiplicative inverse, $1/\\alpha$\n",
    "* Division on $\\mathbf{C}$"
   ]
  },
  {
   "cell_type": "markdown",
   "id": "c0fb61b5-04d3-4a0b-ab6b-5377118c1602",
   "metadata": {},
   "source": [
    "# Definition\n",
    "* Field, $\\mathbf{F}$"
   ]
  },
  {
   "cell_type": "markdown",
   "id": "571631a9-ea57-440f-869a-181f55d004b8",
   "metadata": {},
   "source": [
    "Elements of $\\mathbf{F}$ are called _scalars_."
   ]
  },
  {
   "cell_type": "markdown",
   "id": "bd5b714a-4077-4a03-97b9-c51723b83eac",
   "metadata": {},
   "source": [
    "# Definition\n",
    "* List and length\n",
    "* Equivalence of two lists"
   ]
  },
  {
   "cell_type": "markdown",
   "id": "dd3e5652-29ec-4d8a-9d0a-034e9851b3cb",
   "metadata": {},
   "source": [
    "A list of length _n_ is also called ***n-tuple***.\n",
    "\n",
    "By definition, each list has a finite length that is a nonnegative integer. Thus an object that looks like $(x_1, x_2, \\dots )$, which might be said to have infinite length, is not a list.\n",
    "\n",
    "Lists differ from finite sets in two ways: in lists, order matters and repetitions have meaning; in sets, order and repetirions are irrelevant."
   ]
  },
  {
   "cell_type": "markdown",
   "id": "6cf3b9d9-044c-4f2d-be8f-dab6aa11826a",
   "metadata": {},
   "source": [
    "# Definition\n",
    "* $\\mathbf{F}^n$ and coordinate"
   ]
  },
  {
   "cell_type": "markdown",
   "id": "f15a90a2-d298-49b6-916d-da8fec5cdac8",
   "metadata": {},
   "source": [
    "# Definition\n",
    "* $\\mathbf{R}^n$ and $\\mathbf{C}^n$"
   ]
  },
  {
   "cell_type": "markdown",
   "id": "cffe1a93-74f1-410d-9b1c-d9cbaeb5f856",
   "metadata": {},
   "source": [
    "If $n \\geqslant 4$, we cannot visualize $\\mathbf{R}^n$ as a physical object. Similarly, $\\mathbf{C}^1$ can be thought of as a plane, but for $n \\geqslant 2$, the human brain cannot provided a full image of $\\mathbf{C}^n$."
   ]
  },
  {
   "cell_type": "markdown",
   "id": "478cc7d9-b686-4c8a-b187-65c550488d00",
   "metadata": {},
   "source": [
    "# Definition\n",
    "* Addition in $\\mathbf{F}^n$"
   ]
  },
  {
   "cell_type": "markdown",
   "id": "58e9b8aa-70e1-4640-9764-c3953d4b84f8",
   "metadata": {},
   "source": [
    "# Theorem\n",
    "* Commutativity of addition in $\\mathbf{F}^n$"
   ]
  },
  {
   "cell_type": "markdown",
   "id": "61040e34-fe4d-451f-8056-12cfa1184f5a",
   "metadata": {},
   "source": [
    "Proof:"
   ]
  },
  {
   "cell_type": "markdown",
   "id": "1afc8813-de7c-4a47-8d4c-c745a1645262",
   "metadata": {},
   "source": [
    "# Notation\n",
    "* $0$ in the context of $\\mathbf{F}$"
   ]
  },
  {
   "cell_type": "code",
   "execution_count": null,
   "id": "32a39994-2480-419a-a2ba-e57493749680",
   "metadata": {},
   "outputs": [],
   "source": []
  }
 ],
 "metadata": {
  "kernelspec": {
   "display_name": "MATLAB Kernel",
   "language": "matlab",
   "name": "jupyter_matlab_kernel"
  },
  "language_info": {
   "file_extension": ".m",
   "mimetype": "text/x-matlab",
   "name": "matlab"
  }
 },
 "nbformat": 4,
 "nbformat_minor": 5
}
