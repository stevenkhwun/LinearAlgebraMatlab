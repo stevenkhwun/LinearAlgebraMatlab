{
 "cells": [
  {
   "cell_type": "code",
   "execution_count": 8,
   "id": "ab48c55e-c22c-45dc-a910-3935371535df",
   "metadata": {},
   "outputs": [
    {
     "data": {
      "text/html": [
       "<html><body><pre>n = 6</pre></body></html>"
      ],
      "text/plain": [
       "n = 6"
      ]
     },
     "execution_count": 8,
     "metadata": {},
     "output_type": "execute_result"
    }
   ],
   "source": [
    "n = 6"
   ]
  },
  {
   "cell_type": "code",
   "execution_count": 9,
   "id": "89f877e9-df70-41a4-a6ea-d14da9e67be4",
   "metadata": {},
   "outputs": [
    {
     "data": {
      "text/html": [
       "<html><body><pre>ans = 8.0000</pre></body></html>"
      ],
      "text/plain": [
       "ans = 8.0000"
      ]
     },
     "execution_count": 9,
     "metadata": {},
     "output_type": "execute_result"
    }
   ],
   "source": [
    "s5 = sqrt(5);\n",
    "t1 = (1 + s5) / 2;\n",
    "t2 = (1 - s5) / 2;\n",
    "diff = t1^n - t2^n;\n",
    "ans = diff / s5"
   ]
  }
 ],
 "metadata": {
  "kernelspec": {
   "display_name": "MATLAB Kernel",
   "language": "matlab",
   "name": "jupyter_matlab_kernel"
  },
  "language_info": {
   "file_extension": ".m",
   "mimetype": "text/x-matlab",
   "name": "matlab"
  }
 },
 "nbformat": 4,
 "nbformat_minor": 5
}
